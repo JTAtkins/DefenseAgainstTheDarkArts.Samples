{
 "cells": [
  {
   "cell_type": "markdown",
   "metadata": {},
   "source": [
    "# Local Development\n",
    "\n",
    "Developing for the cloud is more complex in local environments as there several types of identities of identities in Azure.  This is further complicated by the fact that each application and each service is different.  In this post/notebook we will take a look at the various methods used in local development and what the best practices are.\n",
    "\n",
    "## Identities\n",
    "\n",
    "- You! : Yes your identity can be used to develop locally against Azure services and depending on the service will generally use your permissions to access the services.\n",
    "\n",
    "- Service Principal : "
   ]
  },
  {
   "cell_type": "markdown",
   "metadata": {},
   "source": []
  },
  {
   "cell_type": "markdown",
   "metadata": {},
   "source": []
  }
 ],
 "metadata": {
  "language_info": {
   "name": "python"
  }
 },
 "nbformat": 4,
 "nbformat_minor": 2
}
